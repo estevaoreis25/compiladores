{
  "nbformat": 4,
  "nbformat_minor": 0,
  "metadata": {
    "colab": {
      "name": "Gramatica Livre de Contexto.ipynb",
      "provenance": [],
      "include_colab_link": true
    },
    "kernelspec": {
      "name": "python3",
      "display_name": "Python 3"
    }
  },
  "cells": [
    {
      "cell_type": "markdown",
      "metadata": {
        "id": "view-in-github",
        "colab_type": "text"
      },
      "source": [
        "<a href=\"https://colab.research.google.com/github/estevaoreis25/compiladores/blob/master/Gramatica_Livre_de_Contexto.ipynb\" target=\"_parent\"><img src=\"https://colab.research.google.com/assets/colab-badge.svg\" alt=\"Open In Colab\"/></a>"
      ]
    },
    {
      "cell_type": "code",
      "metadata": {
        "id": "szxmW1vl_OWD",
        "colab_type": "code",
        "colab": {
          "base_uri": "https://localhost:8080/",
          "height": 34
        },
        "outputId": "0d9bb4bc-bc6a-4f4a-ca5a-4a1d211ad36e"
      },
      "source": [
        "pip install lark-parser"
      ],
      "execution_count": 89,
      "outputs": [
        {
          "output_type": "stream",
          "text": [
            "Requirement already satisfied: lark-parser in /usr/local/lib/python3.6/dist-packages (0.7.8)\n"
          ],
          "name": "stdout"
        }
      ]
    },
    {
      "cell_type": "code",
      "metadata": {
        "id": "qlOvCfVs_yV5",
        "colab_type": "code",
        "colab": {}
      },
      "source": [
        "from lark import Lark"
      ],
      "execution_count": 0,
      "outputs": []
    },
    {
      "cell_type": "code",
      "metadata": {
        "id": "gPvmEcRbA_CY",
        "colab_type": "code",
        "colab": {}
      },
      "source": [
        "gramatica = Lark (r''' \n",
        "  start: atom*\n",
        "  atom: \"[\" atom* (\",\"*atom\",\"*)*\"]\" \n",
        "      | letra\n",
        "  letra: /[A-Za-z]+/\n",
        "\n",
        "%ignore /\\s+/\n",
        "\n",
        "''')"
      ],
      "execution_count": 0,
      "outputs": []
    },
    {
      "cell_type": "code",
      "metadata": {
        "id": "Q3KPnQrIBTBG",
        "colab_type": "code",
        "colab": {
          "base_uri": "https://localhost:8080/",
          "height": 136
        },
        "outputId": "74287d98-005c-4969-c9c2-2187a9d28abc"
      },
      "source": [
        "print(gramatica.parse(\"[a,,, b,]\").pretty())"
      ],
      "execution_count": 190,
      "outputs": [
        {
          "output_type": "stream",
          "text": [
            "start\n",
            "  atom\n",
            "    atom\n",
            "      letra\ta\n",
            "    atom\n",
            "      letra\tb\n",
            "\n"
          ],
          "name": "stdout"
        }
      ]
    }
  ]
}